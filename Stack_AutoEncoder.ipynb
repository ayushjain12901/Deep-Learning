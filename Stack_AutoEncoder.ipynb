{
  "nbformat": 4,
  "nbformat_minor": 0,
  "metadata": {
    "colab": {
      "name": "Stack_AutoEncoder",
      "provenance": []
    },
    "kernelspec": {
      "name": "python3",
      "display_name": "Python 3"
    },
    "language_info": {
      "name": "python"
    }
  },
  "cells": [
    {
      "cell_type": "markdown",
      "metadata": {
        "id": "QlDakL_wQjvM"
      },
      "source": [
        "**Importing Libraries**"
      ]
    },
    {
      "cell_type": "code",
      "metadata": {
        "id": "8LOjvCTKPEfV"
      },
      "source": [
        "import tensorflow\n",
        "from tensorflow import keras\n",
        "from keras.layers import Dense, Input\n",
        "from keras.models import Sequential,Model\n",
        "from keras.utils import to_categorical\n",
        "from sklearn.metrics import accuracy_score\n",
        "from keras.datasets import mnist\n",
        "import pickle\n",
        "import numpy as np"
      ],
      "execution_count": null,
      "outputs": []
    },
    {
      "cell_type": "markdown",
      "metadata": {
        "id": "NxovObu-Qso_"
      },
      "source": [
        "**Loading and Preprocessing Data**"
      ]
    },
    {
      "cell_type": "code",
      "metadata": {
        "colab": {
          "base_uri": "https://localhost:8080/"
        },
        "id": "D7y8ZL3nPqZY",
        "outputId": "80cc2137-2aa6-4ac6-91a2-6348e179010f"
      },
      "source": [
        "(X_train, Y_train), (X_test, Y_test) = mnist.load_data()\n",
        "\n",
        "X_train = X_train.reshape(60000, 784)\n",
        "X_test = X_test.reshape(10000, 784)\n",
        "\n",
        "X_train =X_train/ 255\n",
        "X_test =X_test/ 255\n",
        "\n",
        "Y_train = tensorflow.keras.utils.to_categorical(Y_train, 10)\n",
        "teststarget = Y_test\n",
        "Y_test = tensorflow.keras.utils.to_categorical(Y_test, 10)\n",
        "\n",
        "print(\"X_train: \",X_train.shape)\n",
        "print(\"Y_train: \",Y_train.shape)\n",
        "print(\"X_test: \",X_test.shape)\n",
        "print(\"Y_test: \",Y_test.shape)"
      ],
      "execution_count": null,
      "outputs": [
        {
          "output_type": "stream",
          "text": [
            "X_train:  (60000, 784)\n",
            "Y_train:  (60000, 10)\n",
            "X_test:  (10000, 784)\n",
            "Y_test:  (10000, 10)\n"
          ],
          "name": "stdout"
        }
      ]
    },
    {
      "cell_type": "markdown",
      "metadata": {
        "id": "RlSlqen7Qwi6"
      },
      "source": [
        "**Stack Autoencoder**"
      ]
    },
    {
      "cell_type": "code",
      "metadata": {
        "colab": {
          "base_uri": "https://localhost:8080/"
        },
        "id": "i1-N2EUkQHRZ",
        "outputId": "d7847cf9-cd0c-4b2d-d25c-7417abeb5e0b"
      },
      "source": [
        "inp1=Input(shape=(784,))\n",
        "h1=Dense(100, activation='sigmoid')(inp1)\n",
        "o1=Dense(784,activation='sigmoid')(h1)\n",
        "AE1=Model(inputs=inp1,outputs=o1)\n",
        "AE1.compile(optimizer='adam',metrics=['accuracy'],loss='mse')\n",
        "\n",
        "print('Training the first AE')\n",
        "AE1.fit(X_train,X_train,epochs=10)\n",
        "\n",
        "hid_o1=AE1.layers[1].output\n",
        "trim_o1=Model(inputs=inp1,outputs=hid_o1)\n",
        "trim_o1_train=trim_o1.predict(X_train)\n",
        "trim_o1_test=trim_o1.predict(X_test)\n",
        "\n",
        "print('Training the Second AE')\n",
        "inp2=Input(shape=(100,))\n",
        "h2=Dense(50, activation='sigmoid')(inp2)\n",
        "o2=Dense(100,activation='sigmoid')(h2)\n",
        "AE2=Model(inputs=inp2,outputs=o2)\n",
        "AE2.compile(loss='mse',metrics=['accuracy'],optimizer='adam')\n",
        "print('Shape of AE2 layer1: ',AE2.layers[1].get_weights()[0].shape)\n",
        "print('Shape of AE2 layer2: ',AE2.layers[2].get_weights()[0].shape)\n",
        "AE2.fit(trim_o1_train,trim_o1_train,epochs=10)\n",
        "\n",
        "hid_o2=AE2.layers[1].output\n",
        "trim_o2=Model(inputs=inp2,outputs=hid_o2)\n",
        "trim_o2_train=trim_o2.predict(trim_o1_train)\n",
        "trim_o2_test=trim_o2.predict(trim_o1_test)\n",
        "\n",
        "print('Training the Third AE(Not AE, but for classification)')\n",
        "inp3=Input(shape=(50,))\n",
        "o3=Dense(10, activation='softmax')(inp3)\n",
        "AE3=Model(inputs=inp3,outputs=o3)\n",
        "AE3.compile(loss='categorical_crossentropy',metrics=['accuracy'],optimizer='adam')\n",
        "print('Shape of AE3 layer1: ',AE3.layers[1].get_weights()[0].shape)\n",
        "AE3.fit(trim_o2_train,Y_train,epochs=10)\n"
      ],
      "execution_count": null,
      "outputs": [
        {
          "output_type": "stream",
          "text": [
            "Training the first AE\n",
            "Epoch 1/10\n",
            "1875/1875 [==============================] - 5s 3ms/step - loss: 0.0605 - accuracy: 0.0118\n",
            "Epoch 2/10\n",
            "1875/1875 [==============================] - 5s 3ms/step - loss: 0.0220 - accuracy: 0.0106\n",
            "Epoch 3/10\n",
            "1875/1875 [==============================] - 5s 3ms/step - loss: 0.0137 - accuracy: 0.0125\n",
            "Epoch 4/10\n",
            "1875/1875 [==============================] - 5s 3ms/step - loss: 0.0102 - accuracy: 0.0125\n",
            "Epoch 5/10\n",
            "1875/1875 [==============================] - 5s 3ms/step - loss: 0.0083 - accuracy: 0.0126\n",
            "Epoch 6/10\n",
            "1875/1875 [==============================] - 5s 3ms/step - loss: 0.0068 - accuracy: 0.0132\n",
            "Epoch 7/10\n",
            "1875/1875 [==============================] - 5s 3ms/step - loss: 0.0056 - accuracy: 0.0137\n",
            "Epoch 8/10\n",
            "1875/1875 [==============================] - 5s 3ms/step - loss: 0.0046 - accuracy: 0.0133\n",
            "Epoch 9/10\n",
            "1875/1875 [==============================] - 5s 3ms/step - loss: 0.0040 - accuracy: 0.0141\n",
            "Epoch 10/10\n",
            "1875/1875 [==============================] - 5s 2ms/step - loss: 0.0036 - accuracy: 0.0138\n",
            "Training the Second AE\n",
            "Shape of AE2 layer1:  (100, 50)\n",
            "Shape of AE2 layer2:  (50, 100)\n",
            "Epoch 1/10\n",
            "1875/1875 [==============================] - 3s 1ms/step - loss: 0.0657 - accuracy: 0.0226\n",
            "Epoch 2/10\n",
            "1875/1875 [==============================] - 2s 1ms/step - loss: 0.0321 - accuracy: 0.0704\n",
            "Epoch 3/10\n",
            "1875/1875 [==============================] - 2s 1ms/step - loss: 0.0250 - accuracy: 0.1111\n",
            "Epoch 4/10\n",
            "1875/1875 [==============================] - 2s 1ms/step - loss: 0.0234 - accuracy: 0.1257\n",
            "Epoch 5/10\n",
            "1875/1875 [==============================] - 2s 1ms/step - loss: 0.0226 - accuracy: 0.1305\n",
            "Epoch 6/10\n",
            "1875/1875 [==============================] - 2s 1ms/step - loss: 0.0221 - accuracy: 0.1348\n",
            "Epoch 7/10\n",
            "1875/1875 [==============================] - 2s 1ms/step - loss: 0.0217 - accuracy: 0.1390\n",
            "Epoch 8/10\n",
            "1875/1875 [==============================] - 2s 1ms/step - loss: 0.0216 - accuracy: 0.1365\n",
            "Epoch 9/10\n",
            "1875/1875 [==============================] - 2s 1ms/step - loss: 0.0212 - accuracy: 0.1401\n",
            "Epoch 10/10\n",
            "1875/1875 [==============================] - 2s 1ms/step - loss: 0.0210 - accuracy: 0.1426\n",
            "Training the Third AE(Not AE, but for classification)\n",
            "Shape of AE3 layer1:  (50, 10)\n",
            "Epoch 1/10\n",
            "1875/1875 [==============================] - 2s 1ms/step - loss: 1.9172 - accuracy: 0.4559\n",
            "Epoch 2/10\n",
            "1875/1875 [==============================] - 2s 1ms/step - loss: 1.0561 - accuracy: 0.8042\n",
            "Epoch 3/10\n",
            "1875/1875 [==============================] - 2s 1ms/step - loss: 0.7615 - accuracy: 0.8352\n",
            "Epoch 4/10\n",
            "1875/1875 [==============================] - 2s 1ms/step - loss: 0.6336 - accuracy: 0.8493\n",
            "Epoch 5/10\n",
            "1875/1875 [==============================] - 2s 1ms/step - loss: 0.5714 - accuracy: 0.8542\n",
            "Epoch 6/10\n",
            "1875/1875 [==============================] - 2s 1ms/step - loss: 0.5310 - accuracy: 0.8560\n",
            "Epoch 7/10\n",
            "1875/1875 [==============================] - 2s 1ms/step - loss: 0.5060 - accuracy: 0.8606\n",
            "Epoch 8/10\n",
            "1875/1875 [==============================] - 2s 1ms/step - loss: 0.4828 - accuracy: 0.8638\n",
            "Epoch 9/10\n",
            "1875/1875 [==============================] - 2s 1ms/step - loss: 0.4719 - accuracy: 0.8659\n",
            "Epoch 10/10\n",
            "1875/1875 [==============================] - 2s 1ms/step - loss: 0.4517 - accuracy: 0.8704\n"
          ],
          "name": "stdout"
        },
        {
          "output_type": "execute_result",
          "data": {
            "text/plain": [
              "<tensorflow.python.keras.callbacks.History at 0x7f224dedc250>"
            ]
          },
          "metadata": {
            "tags": []
          },
          "execution_count": 8
        }
      ]
    },
    {
      "cell_type": "markdown",
      "metadata": {
        "id": "_IHlZAUXSyRd"
      },
      "source": [
        "**Combining AE's and developing Classification model**"
      ]
    },
    {
      "cell_type": "code",
      "metadata": {
        "colab": {
          "base_uri": "https://localhost:8080/"
        },
        "id": "aqG2axqgSvpx",
        "outputId": "bff36f46-e1a9-447e-d15a-c4a1a683dd80"
      },
      "source": [
        "AE=Sequential()\n",
        "AE.add(AE1.layers[0])\n",
        "AE.add(AE1.layers[1])\n",
        "AE.add(AE2.layers[1])\n",
        "AE.add(AE3.layers[-1])\n",
        "AE.compile(loss='categorical_crossentropy', metrics=['accuracy'],optimizer='adam')\n",
        "AE.fit(X_train,Y_train,epochs=5)\n",
        "\n",
        "predic = np.array(AE.predict(X_test))\n",
        "prediction = np.argmax(predic, axis=1)\n",
        "print(\"Accuracy score of classification is: \", accuracy_score(teststarget, prediction))"
      ],
      "execution_count": null,
      "outputs": [
        {
          "output_type": "stream",
          "text": [
            "Epoch 1/5\n",
            "1875/1875 [==============================] - 4s 2ms/step - loss: 0.3362 - accuracy: 0.9016\n",
            "Epoch 2/5\n",
            "1875/1875 [==============================] - 3s 2ms/step - loss: 0.1831 - accuracy: 0.9473\n",
            "Epoch 3/5\n",
            "1875/1875 [==============================] - 3s 2ms/step - loss: 0.1294 - accuracy: 0.9618\n",
            "Epoch 4/5\n",
            "1875/1875 [==============================] - 3s 2ms/step - loss: 0.0989 - accuracy: 0.9720\n",
            "Epoch 5/5\n",
            "1875/1875 [==============================] - 3s 2ms/step - loss: 0.0756 - accuracy: 0.9774\n",
            "Accuracy score of classification is:  0.9696\n"
          ],
          "name": "stdout"
        }
      ]
    }
  ]
}